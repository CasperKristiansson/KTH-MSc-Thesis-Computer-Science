{
 "cells": [
  {
   "cell_type": "code",
   "execution_count": null,
   "id": "9f736c93",
   "metadata": {},
   "outputs": [],
   "source": [
    "import numpy as np\n",
    "import zarr\n",
    "from zarr.storage import FsspecStore\n",
    "import os\n",
    "from dotenv import load_dotenv"
   ]
  },
  {
   "cell_type": "code",
   "execution_count": null,
   "id": "76ed957c",
   "metadata": {},
   "outputs": [],
   "source": [
    "load_dotenv()\n",
    "\n",
    "aws_key = os.getenv(\"ACCESS_KEY_ID\")\n",
    "aws_secret = os.getenv(\"SECRET_ACCESS_KEY\")\n",
    "region = os.getenv(\"REGION\", \"eu-north-1\")"
   ]
  },
  {
   "cell_type": "markdown",
   "id": "663ab56e",
   "metadata": {},
   "source": [
    "# Write"
   ]
  },
  {
   "cell_type": "code",
   "execution_count": null,
   "id": "f3bce330",
   "metadata": {},
   "outputs": [],
   "source": [
    "store = FsspecStore.from_url(\n",
    "    \"s3://scatterin-master-thesis/simple.zarr\",\n",
    "    storage_options={\n",
    "        \"key\": aws_key,\n",
    "        \"secret\": aws_secret,\n",
    "        \"client_kwargs\": {\"region_name\": region},\n",
    "    }\n",
    ")"
   ]
  },
  {
   "cell_type": "code",
   "execution_count": null,
   "id": "8804e322",
   "metadata": {},
   "outputs": [],
   "source": [
    "root = zarr.group(store=store, overwrite=True)"
   ]
  },
  {
   "cell_type": "code",
   "execution_count": null,
   "id": "1b99be98",
   "metadata": {},
   "outputs": [],
   "source": [
    "arr = root.create_array('data', shape=(100,100), chunks=(25,25), dtype='f4')"
   ]
  },
  {
   "cell_type": "code",
   "execution_count": null,
   "id": "51e91b9e",
   "metadata": {},
   "outputs": [],
   "source": [
    "data = np.random.rand(100, 100).astype('f4')\n",
    "arr[...] = data"
   ]
  },
  {
   "cell_type": "markdown",
   "id": "87724c33",
   "metadata": {},
   "source": [
    "# Read"
   ]
  },
  {
   "cell_type": "code",
   "execution_count": null,
   "id": "ff95c104",
   "metadata": {},
   "outputs": [],
   "source": [
    "import logging"
   ]
  },
  {
   "cell_type": "code",
   "execution_count": null,
   "id": "0b4f312b",
   "metadata": {},
   "outputs": [],
   "source": [
    "logging.basicConfig(level=logging.DEBUG)\n",
    "logging.getLogger(\"fsspec\").setLevel(logging.DEBUG)\n",
    "logging.getLogger(\"s3fs\").setLevel(logging.DEBUG)"
   ]
  },
  {
   "cell_type": "code",
   "execution_count": null,
   "id": "4211abbb",
   "metadata": {},
   "outputs": [],
   "source": [
    "root = zarr.open_group(store=store, mode=\"r\")\n",
    "arr = root[\"data\"]"
   ]
  },
  {
   "cell_type": "code",
   "execution_count": null,
   "id": "7ae352d6",
   "metadata": {},
   "outputs": [],
   "source": [
    "print(arr.shape, arr.dtype)"
   ]
  },
  {
   "cell_type": "code",
   "execution_count": null,
   "id": "020919b2",
   "metadata": {},
   "outputs": [],
   "source": [
    "_ = arr[10:20, 30:40]"
   ]
  }
 ],
 "metadata": {
  "kernelspec": {
   "display_name": ".venv",
   "language": "python",
   "name": "python3"
  },
  "language_info": {
   "codemirror_mode": {
    "name": "ipython",
    "version": 3
   },
   "file_extension": ".py",
   "mimetype": "text/x-python",
   "name": "python",
   "nbconvert_exporter": "python",
   "pygments_lexer": "ipython3",
   "version": "3.13.3"
  }
 },
 "nbformat": 4,
 "nbformat_minor": 5
}

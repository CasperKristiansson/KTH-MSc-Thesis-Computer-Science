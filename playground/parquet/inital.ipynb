{
 "cells": [
  {
   "cell_type": "code",
   "execution_count": null,
   "id": "ca57e6d6",
   "metadata": {},
   "outputs": [],
   "source": [
    "import os\n",
    "from dotenv import load_dotenv\n",
    "import pandas as pd\n",
    "import numpy as np\n",
    "import boto3"
   ]
  },
  {
   "cell_type": "code",
   "execution_count": 5,
   "id": "1dd71a4a",
   "metadata": {},
   "outputs": [],
   "source": [
    "load_dotenv()\n",
    "\n",
    "aws_key = os.getenv(\"ACCESS_KEY_ID\")\n",
    "aws_secret = os.getenv(\"SECRET_ACCESS_KEY\")\n",
    "region = os.getenv(\"REGION\", \"eu-north-1\")"
   ]
  },
  {
   "cell_type": "code",
   "execution_count": 7,
   "id": "c496bf8a",
   "metadata": {},
   "outputs": [],
   "source": [
    "n = 1_000\n",
    "df = pd.DataFrame({\n",
    "    \"experiment_id\": np.random.choice([\"expA\", \"expB\", \"expC\"], size=n),\n",
    "    \"timestamp\": pd.date_range(\"2025-01-01\", periods=n, freq=\"min\"),\n",
    "    \"intensity\": np.random.random(size=n) * 100,\n",
    "    \"temperature\": 20 + np.random.randn(n)\n",
    "})"
   ]
  },
  {
   "cell_type": "code",
   "execution_count": 9,
   "id": "def9a22b",
   "metadata": {},
   "outputs": [],
   "source": [
    "df.to_parquet(\n",
    "    \"scattering_data.parquet\",\n",
    "    engine=\"pyarrow\",\n",
    "    partition_cols=[\"experiment_id\"],\n",
    "    index=False\n",
    ")"
   ]
  },
  {
   "cell_type": "code",
   "execution_count": 16,
   "id": "1fcc7133",
   "metadata": {},
   "outputs": [],
   "source": [
    "s3 = boto3.client(\n",
    "    \"s3\",\n",
    "    aws_access_key_id=aws_key,\n",
    "    aws_secret_access_key=aws_secret,\n",
    "    region_name=region\n",
    ")\n",
    "bucket = \"scatterin-master-thesis\"\n",
    "prefix = \"parquet-test/\""
   ]
  },
  {
   "cell_type": "code",
   "execution_count": 17,
   "id": "8e79a88c",
   "metadata": {},
   "outputs": [],
   "source": [
    "for root, _, files in os.walk(\"scattering_data.parquet\"):\n",
    "    for fname in files:\n",
    "        local_path = os.path.join(root, fname)\n",
    "        key = prefix + os.path.relpath(local_path, \"scattering_data.parquet\")\n",
    "        s3.upload_file(local_path, bucket, key)"
   ]
  },
  {
   "cell_type": "markdown",
   "id": "1623a1c7",
   "metadata": {},
   "source": [
    "# Read"
   ]
  },
  {
   "cell_type": "code",
   "execution_count": 23,
   "id": "59adf9b9",
   "metadata": {},
   "outputs": [],
   "source": [
    "storage_opts = {\n",
    "    \"key\":    aws_key,\n",
    "    \"secret\": aws_secret,\n",
    "    \"client_kwargs\": {\"region_name\": region}\n",
    "}\n",
    "\n",
    "df_intensity = pd.read_parquet(\n",
    "    f\"s3://{bucket}/{prefix}\",\n",
    "    columns=[\"intensity\"],\n",
    "    engine=\"pyarrow\",\n",
    "    storage_options=storage_opts\n",
    ")"
   ]
  },
  {
   "cell_type": "code",
   "execution_count": 24,
   "id": "e2c091de",
   "metadata": {},
   "outputs": [
    {
     "data": {
      "text/html": [
       "<div>\n",
       "<style scoped>\n",
       "    .dataframe tbody tr th:only-of-type {\n",
       "        vertical-align: middle;\n",
       "    }\n",
       "\n",
       "    .dataframe tbody tr th {\n",
       "        vertical-align: top;\n",
       "    }\n",
       "\n",
       "    .dataframe thead th {\n",
       "        text-align: right;\n",
       "    }\n",
       "</style>\n",
       "<table border=\"1\" class=\"dataframe\">\n",
       "  <thead>\n",
       "    <tr style=\"text-align: right;\">\n",
       "      <th></th>\n",
       "      <th>intensity</th>\n",
       "    </tr>\n",
       "  </thead>\n",
       "  <tbody>\n",
       "    <tr>\n",
       "      <th>0</th>\n",
       "      <td>79.667739</td>\n",
       "    </tr>\n",
       "    <tr>\n",
       "      <th>1</th>\n",
       "      <td>63.929996</td>\n",
       "    </tr>\n",
       "    <tr>\n",
       "      <th>2</th>\n",
       "      <td>75.157730</td>\n",
       "    </tr>\n",
       "    <tr>\n",
       "      <th>3</th>\n",
       "      <td>38.140924</td>\n",
       "    </tr>\n",
       "    <tr>\n",
       "      <th>4</th>\n",
       "      <td>12.590912</td>\n",
       "    </tr>\n",
       "  </tbody>\n",
       "</table>\n",
       "</div>"
      ],
      "text/plain": [
       "   intensity\n",
       "0  79.667739\n",
       "1  63.929996\n",
       "2  75.157730\n",
       "3  38.140924\n",
       "4  12.590912"
      ]
     },
     "execution_count": 24,
     "metadata": {},
     "output_type": "execute_result"
    }
   ],
   "source": [
    "df_intensity.head()"
   ]
  },
  {
   "cell_type": "code",
   "execution_count": null,
   "id": "f8771332",
   "metadata": {},
   "outputs": [],
   "source": []
  }
 ],
 "metadata": {
  "kernelspec": {
   "display_name": ".venv",
   "language": "python",
   "name": "python3"
  },
  "language_info": {
   "codemirror_mode": {
    "name": "ipython",
    "version": 3
   },
   "file_extension": ".py",
   "mimetype": "text/x-python",
   "name": "python",
   "nbconvert_exporter": "python",
   "pygments_lexer": "ipython3",
   "version": "3.13.3"
  }
 },
 "nbformat": 4,
 "nbformat_minor": 5
}
